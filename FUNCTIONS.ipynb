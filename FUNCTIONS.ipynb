{
  "nbformat": 4,
  "nbformat_minor": 0,
  "metadata": {
    "colab": {
      "provenance": []
    },
    "kernelspec": {
      "name": "python3",
      "display_name": "Python 3"
    },
    "language_info": {
      "name": "python"
    }
  },
  "cells": [
    {
      "cell_type": "markdown",
      "source": [
        "# 1. What is Python, and why is it popular?\n",
        "\n",
        "  -> Python is a high level, interpreted programming language know for its\n",
        "  easy-to-read syntax and versatility. Pyhton is designed to be simple and\n",
        "  Straightforward, making it an excellent choice for beginners and\n",
        "  experienced developers alike.\n",
        "  Python's combination of ease of use, versatility, robust libraries, and strong community support makes it highly popular.\n",
        "\n",
        "\n",
        "# 2. What is an interpreter in Python?\n",
        "  \n",
        "  -> An interpreter in Python is a program that reads and executes Python code directly, line by line, without the need for a separate compilation step.\n",
        "\n",
        "# 3. What are pre-defined keywords in Python?\n",
        "  \n",
        "  -> In python the pre-difined keywords or reserve words are special words that have predifined meaning and purpose in the Python programming language. these keywords cannot be used as identifiers (such as variables names, functions names and class names.) because they are reserved for functionality in the programming language.\n",
        "  Each keywords serves as a specific role such as defining controle flow,creating classes or functions, handling exceptions, and so on. they are integral to the python language Syntax and structure.\n",
        "\n",
        "\n",
        "\n",
        "\n",
        "\n",
        "# 4. Can keywords be used as variable names?\n",
        "  \n",
        "  -> keywords cannot be used as, vaariables or any other identifiers because they are reserved for functionality in the programming language.\n",
        "\n",
        "\n",
        "# 5. What is mutability in Python?\n",
        "  \n",
        "  ->Mutability in python refers to the ability of an object to be modified after is created. Specifically Mutable object can have its content or state changed. While immutable object cannot be changed or altered once it is created.\n",
        "\n",
        "\n",
        "\n",
        "\n",
        "# 6. Why are lists mutable, but tuples are immutable?\n",
        "  \n",
        "  -> List are  mutable because they are designed for flexibility, allowing dynamic modification like adding or removing elements. Tuples are immutable to provide data integrity, memory efficiency, and Hashability, making them ideal for fixed collections. This Distinction aligns with their intended use cases: List are for changeable data and tuples for constant and stable data.\n",
        "\n",
        "\n",
        "\n",
        "\n",
        "#7. What is the difference between “==” and “is” operators in Python?\n",
        "\n",
        "  -> In Python, the `==` operator checks if the values of two objects are equal, meaning it compares their contents. The `is` operator, on the other hand, checks if two objects refer to the exact same memory location, i.e., whether they are the same object in memory (identity compar\n",
        "\n",
        "\n",
        "\n",
        "\n",
        "#8. What are logical operators in Python?\n",
        "\n",
        "  -> In Python, logical operators are used to perform logical operations on values or expressions. They are commonly used in conditional statements and control flow to combine multiple conditions.\n",
        "\n",
        "\n",
        "#9. What is type casting in Python?\n",
        "\n",
        "  -> Type casting in Python is the process of converting one data type to another. It can be done implicitly (automatically by Python) or explicitly (using built-in functions). Common functions for explicit casting include `int()`, `float()`, `str()`, `list()`, and `tuple()`. Implicit casting happens when a smaller data type (like `int`) is converted to a larger one (like `float`) without loss of data. Explicit casting is required when converting between incompatible types. Incorrect casting, such as converting a non-numeric string to an integer, results in an error.\n",
        "\n",
        "\n",
        "#10.What is the difference between implicit and explicit type casting?\n",
        "  -> Implicit type casting (or automatic type casting ) is performed by the compiler automatically when converting a smaller data type to a larger one, like `int` to `float`.  \n",
        "\n",
        "  Explicit type casting (or manual type casting) is done by the programmer using a cast operator, such as `(type)variable`, to convert a data type intentionally, e.g., converting a `float` to an `int`.\n",
        "\n",
        "\n",
        "# 11. What is the purpose of conditional statements in Python?\n",
        "  -> In Python, conditional statements are used to make decisions in code based on certain conditions. These statements allow you to execute different blocks of code depending on whether a condition is true or false. They enable your program to react dynamically to various inputs, conditions, or states, making your code more flexible and capable of handling different situations.\n",
        "\n",
        "# 12. How does the elif statement work?\n",
        "  -> The `elif` statement in Python is used to check multiple conditions in sequence. If the initial `if` condition is **False**, it evaluates the `elif` conditions one by one. As soon as an `elif` condition is **True**, its block of code executes, and the rest of the conditions are skipped. If no conditions are true, the `else` block (if present) is executed.\n",
        "\n",
        "\n",
        "# 13. What is the difference between for and while loops?\n",
        "  ->The key difference between for and while loops lies in how the loop control is handled:\n",
        "\n",
        "  for loop: It is used when the number of iterations is known in advance or when iterating over a sequence (like a list, range, or string). It automatically handles the initialization, condition checking, and incrementing.\n",
        "\n",
        "  while loop: It is used when the number of iterations is not known beforehand, and it continues to run as long as a given condition remains True. The loop condition is checked before each iteration.\n",
        "\n",
        "\n",
        "# 14. Describe a scenario where a while loop is more suitable than a for loop.\n",
        "  ->A `while` loop is more suitable when the number of iterations is not known in advance and depends on a condition that may change during execution. For example, when waiting for user input or checking for a specific condition:\n",
        "\n",
        "  ### Scenario:\n",
        "  You want to keep prompting a user for their password until they enter the correct one.\n",
        "\n",
        "  python\n",
        "  password = \"\"\n",
        "  while password != \"secret\":\n",
        "    password = input(\"Enter password: \")\n",
        "\n",
        "  Here, the loop continues until the user inputs the correct password, and the number of attempts is not known upfront.\n"
      ],
      "metadata": {
        "id": "kfkqTKbR5At4"
      }
    },
    {
      "cell_type": "code",
      "execution_count": null,
      "metadata": {
        "id": "uUrTmyGc49QG",
        "colab": {
          "base_uri": "https://localhost:8080/"
        },
        "outputId": "a27ba980-5ed3-4ffb-a560-98b306bff5e9"
      },
      "outputs": [
        {
          "output_type": "stream",
          "name": "stdout",
          "text": [
            "hello, world!\n"
          ]
        }
      ],
      "source": [
        "#Write a Python program to print \"Hello, World!\n",
        "print(\"hello, world!\")"
      ]
    },
    {
      "cell_type": "code",
      "source": [
        "#Write a Python program that displays your name and age\n",
        "name= \"Deeksha\"\n",
        "age=   21\n",
        "print(\"name:\", name)\n",
        "print(\"age:\",age)"
      ],
      "metadata": {
        "colab": {
          "base_uri": "https://localhost:8080/"
        },
        "id": "Ul3xuxstfqMh",
        "outputId": "3218d72a-3264-42a7-b9a3-9aec3fe87d71"
      },
      "execution_count": null,
      "outputs": [
        {
          "output_type": "stream",
          "name": "stdout",
          "text": [
            "name: Deeksha\n",
            "age: 21\n"
          ]
        }
      ]
    },
    {
      "cell_type": "code",
      "source": [
        "#Write code to print all the pre-defined keywords in Python using the keyword library\n",
        "import keyword\n",
        "print(\"Python keywords:\")\n",
        "print(keyword.kwlist)"
      ],
      "metadata": {
        "colab": {
          "base_uri": "https://localhost:8080/"
        },
        "id": "eDD1_UaehQnA",
        "outputId": "89af013f-869c-42f7-ce39-963582f325cf"
      },
      "execution_count": null,
      "outputs": [
        {
          "output_type": "stream",
          "name": "stdout",
          "text": [
            "Python keywords:\n",
            "['False', 'None', 'True', 'and', 'as', 'assert', 'async', 'await', 'break', 'class', 'continue', 'def', 'del', 'elif', 'else', 'except', 'finally', 'for', 'from', 'global', 'if', 'import', 'in', 'is', 'lambda', 'nonlocal', 'not', 'or', 'pass', 'raise', 'return', 'try', 'while', 'with', 'yield']\n"
          ]
        }
      ]
    },
    {
      "cell_type": "code",
      "source": [
        "#Write a program that checks if a given word is a Python keyword\n",
        "import keyword\n",
        "def check_if_keyword(word):\n",
        "  if keyword.iskeyword(word):\n",
        "    print(f\" '{word}' it is a python keyword.\")\n",
        "  else:\n",
        "    print (f\" '{word}'is not a python keyword.\")\n",
        "    word = input(\"enter a word to check if it's a keyword:\")\n",
        "    check_if_keyword(word)"
      ],
      "metadata": {
        "id": "_PxB71pEkxrw"
      },
      "execution_count": null,
      "outputs": []
    },
    {
      "cell_type": "code",
      "source": [
        "0 #Create a list and tuple in Python, and demonstrate how attempting to change an element works differently for each\n",
        "My_list =[1,2,3,4,5]\n",
        "My_tuple =(1,2,3,4,5)\n",
        "print(\"Original list:\", My_list)\n",
        "My_list[2]=10\n",
        "print(\"Modified list:\", My_list)\n",
        "print(\"\\nOriginal tuple:\", My_tuple)\n",
        "try:\n",
        "    My_tuple[2]=10\n",
        "    print(\"Modified tuple:\", My_tuple)\n",
        "except TypeError as e:\n",
        "    print(\"Error:\",e)"
      ],
      "metadata": {
        "colab": {
          "base_uri": "https://localhost:8080/"
        },
        "id": "o16MyfoYrKoG",
        "outputId": "4d9bd584-48be-42d3-a83a-1ebf18d989b2"
      },
      "execution_count": null,
      "outputs": [
        {
          "output_type": "stream",
          "name": "stdout",
          "text": [
            "Original list: [1, 2, 3, 4, 5]\n",
            "Modified list: [1, 2, 10, 4, 5]\n",
            "\n",
            "Original tuple: (1, 2, 3, 4, 5)\n",
            "Error: 'tuple' object does not support item assignment\n"
          ]
        }
      ]
    },
    {
      "cell_type": "code",
      "source": [
        "#Write a function to demonstrate the behavior of mutable and immutable arguments\n",
        "def modify_immutable(x):\n",
        "    \"\"\"\n",
        "    Function attempting to modify an immutable object.\n",
        "    \"\"\"\n",
        "    print(f\"Inside function before change, x = {x}\")\n",
        "    x += 1  # Attempt to modify the immutable argument\n",
        "    print(f\"Inside function after change, x = {x}\")\n",
        "    return x\n",
        "\n",
        "\n",
        "def modify_mutable(lst):\n",
        "    \"\"\"\n",
        "    Function modifying a mutable object.\n",
        "    \"\"\"\n",
        "    print(f\"Inside function before change, lst = {lst}\")\n",
        "    lst.append(4)  # Modify the mutable object\n",
        "    print(f\"Inside function after change, lst = {lst}\")\n",
        "\n",
        "\n",
        "# Demonstrate immutable behavior\n",
        "num = 10\n",
        "print(f\"Original number before function call = {num}\")\n",
        "result = modify_immutable(num)\n",
        "print(f\"Original number after function call = {num}\")\n",
        "print(f\"Returned value from function = {result}\")\n",
        "print(\"-\" * 40)\n",
        "\n",
        "# Demonstrate mutable behavior\n",
        "my_list = [1, 2, 3]\n",
        "print(f\"Original list before function call = {my_list}\")\n",
        "modify_mutable(my_list)\n",
        "print(f\"Original list after function call = {my_list}\")\n"
      ],
      "metadata": {
        "id": "m2tcf5zDxez1",
        "colab": {
          "base_uri": "https://localhost:8080/"
        },
        "outputId": "abbd02cb-067b-45bc-ab30-5e11c2d5cc78"
      },
      "execution_count": null,
      "outputs": [
        {
          "output_type": "stream",
          "name": "stdout",
          "text": [
            "Original number before function call = 10\n",
            "Inside function before change, x = 10\n",
            "Inside function after change, x = 11\n",
            "Original number after function call = 10\n",
            "Returned value from function = 11\n",
            "----------------------------------------\n",
            "Original list before function call = [1, 2, 3]\n",
            "Inside function before change, lst = [1, 2, 3]\n",
            "Inside function after change, lst = [1, 2, 3, 4]\n",
            "Original list after function call = [1, 2, 3, 4]\n"
          ]
        }
      ]
    },
    {
      "cell_type": "code",
      "source": [
        "# Write a program to demonstrate the use of logical operators\n",
        "\n",
        "# Logical operators demonstration program\n",
        "\n",
        "# Input values for demonstration\n",
        "age = int(input(\"Enter your age: \"))\n",
        "has_license = input(\"Do you have a driving license? (yes/no): \").strip().lower() == 'yes'\n",
        "\n",
        "# Using logical AND\n",
        "if age >= 18 and has_license:\n",
        "    print(\"\\nYou are eligible to drive.\")\n",
        "else:\n",
        "    print(\"\\nYou are not eligible to drive.\")\n",
        "\n",
        "# Using logical OR\n",
        "owns_car = input(\"Do you own a car? (yes/no): \").strip().lower() == 'yes'\n",
        "if has_license or owns_car:\n",
        "    print(\"\\nYou are either licensed or have a car.\")\n",
        "else:\n",
        "    print(\"\\nYou neither have a license nor own a car.\")\n",
        "\n",
        "# Using logical NOT\n",
        "not_license = not has_license\n",
        "if not_license:\n",
        "    print(\"\\nYou don't have a driving license.\")\n",
        "else:\n",
        "    print(\"\\nYou have a driving license.\")\n"
      ],
      "metadata": {
        "colab": {
          "base_uri": "https://localhost:8080/"
        },
        "id": "xso2KpmFWqIZ",
        "outputId": "60c09bdf-5374-4dd2-ce87-90c9af7bf736"
      },
      "execution_count": null,
      "outputs": [
        {
          "output_type": "stream",
          "name": "stdout",
          "text": [
            "Enter your age: 21\n",
            "Do you have a driving license? (yes/no): no\n",
            "\n",
            "You are not eligible to drive.\n",
            "Do you own a car? (yes/no): yes\n",
            "\n",
            "You are either licensed or have a car.\n",
            "\n",
            "You don't have a driving license.\n"
          ]
        }
      ]
    },
    {
      "cell_type": "code",
      "source": [
        "# Write a Python program to convert user input from string to integer, float, and boolean types\n",
        "# Prompt user for input\n",
        "user_input = input(\"Enter a value: \")\n",
        "\n",
        "# Convert the string to an integer\n",
        "try:\n",
        "    int_value = int(user_input)\n",
        "    print(f\"Converted to integer: {int_value}\")\n",
        "except ValueError:\n",
        "    print(\"Cannot convert to integer.\")\n",
        "\n",
        "# Convert the string to a float\n",
        "try:\n",
        "    float_value = float(user_input)\n",
        "    print(f\"Converted to float: {float_value}\")\n",
        "except ValueError:\n",
        "    print(\"Cannot convert to float.\")\n",
        "\n",
        "# Convert the string to a boolean\n",
        "bool_value = user_input.lower() in ['true', '1', 'yes', 'y']\n",
        "print(f\"Converted to boolean: {bool_value}\")\n"
      ],
      "metadata": {
        "colab": {
          "base_uri": "https://localhost:8080/"
        },
        "id": "GsXdI_rvnYjM",
        "outputId": "aef4e1f2-ed4d-4412-eb36-62eb39368b38"
      },
      "execution_count": null,
      "outputs": [
        {
          "output_type": "stream",
          "name": "stdout",
          "text": [
            "Enter a value: 9\n",
            "Converted to integer: 9\n",
            "Converted to float: 9.0\n",
            "Converted to boolean: False\n"
          ]
        }
      ]
    },
    {
      "cell_type": "code",
      "source": [
        "\n",
        "#write a code demonstrate type casting with list elements\n",
        "\n",
        "# original_list of string elements\n",
        "string_list = ['1', '3.13', 'True', 'False', '42'\n",
        "\n",
        "#convert list elements into integer]\n",
        "int_list = []\n",
        " for item in string_list:\n",
        "       try:\n",
        "               int_list.append(int(item))\n",
        "       except ValueError:\n",
        "               int_list.append(None) #handle conversation error\n",
        "               print(\"converted to integers:\", int_list)\n",
        "\n",
        "\n",
        "#Convert list items to float\n",
        "               float_list = []\n",
        "       for item in string_list:\n",
        "               try:\n",
        "                       float_list.append(float(item))\n",
        "                       except ValueError:\n",
        "                       float_list.append(None)\n",
        "                       print(\"converted to floats:\", float_list)\n",
        "\n",
        "\n",
        "#convert List to booleans\n",
        "               bool_list = []\n",
        "               for item in string_list:\n",
        "                       bool_value = [ item.lower() in ['true', '1', 'yes',] for item in string_list]\n",
        "                       print(\"converted to booleans:\", bool_list)\n",
        "#convert list elements back to strings\n",
        "               String_converted_list = [str (item) for item in int_list + float_list + bool_list]\n",
        "               print(\"converted back to strings:\", string_converted_list)\n"
      ],
      "metadata": {
        "id": "HX4HuwuvX63_"
      },
      "execution_count": null,
      "outputs": []
    },
    {
      "cell_type": "code",
      "source": [
        "# write programm that checks if number is positive, negative, or zero\n",
        "# Function to check if the number is positive, negative, or zero\n",
        "def check_number(number):\n",
        "    if number > 0:\n",
        "        return \"The number is positive.\"\n",
        "    elif number < 0:\n",
        "        return \"The number is negative.\"\n",
        "    else:\n",
        "        return \"The number is zero.\"\n",
        "\n",
        "# Get user input\n",
        "try:\n",
        "    user_input = float(input(\"Enter a number: \"))\n",
        "    result = check_number(user_input)\n",
        "    print(result)\n",
        "except ValueError:\n",
        "    print(\"Please enter a valid number.\")\n"
      ],
      "metadata": {
        "id": "E_MZ9tnuhINd"
      },
      "execution_count": null,
      "outputs": []
    },
    {
      "cell_type": "code",
      "source": [
        " #Write a for loop to print numbers from 1 to 10\n",
        " # Using a for loop to print numbers from 1 to 10\n",
        "for i in range(1, 11):\n",
        "    print(i)\n",
        "\n",
        "\n"
      ],
      "metadata": {
        "colab": {
          "base_uri": "https://localhost:8080/"
        },
        "id": "qJeUAh-FiKaL",
        "outputId": "d1d908d3-a3f8-414e-f26d-96772829b7e8"
      },
      "execution_count": null,
      "outputs": [
        {
          "output_type": "stream",
          "name": "stdout",
          "text": [
            "1\n",
            "2\n",
            "3\n",
            "4\n",
            "5\n",
            "6\n",
            "7\n",
            "8\n",
            "9\n",
            "10\n"
          ]
        }
      ]
    },
    {
      "cell_type": "code",
      "source": [
        "#Write a Python program to find the sum of all even numbers between 1 and 50\n",
        "# Initialize sum variable\n",
        "sum_even = 0\n",
        "\n",
        "# Loop through numbers from 1 to 50\n",
        "for i in range(1, 51):\n",
        "    if i % 2 == 0:  # Check if the number is even\n",
        "        sum_even += i  # Add the even number to the sum\n",
        "\n",
        "# Print the result\n",
        "print(\"The sum of all even numbers between 1 and 50 is:\", sum_even)\n"
      ],
      "metadata": {
        "colab": {
          "base_uri": "https://localhost:8080/"
        },
        "id": "T4dLFsVSn-cR",
        "outputId": "1863f207-f837-4cab-8cca-392070a6e533"
      },
      "execution_count": null,
      "outputs": [
        {
          "output_type": "stream",
          "name": "stdout",
          "text": [
            "The sum of all even numbers between 1 and 50 is: 650\n"
          ]
        }
      ]
    },
    {
      "cell_type": "code",
      "source": [
        "#Write a program to reverse a string using a while loop\n",
        "# Function to reverse a string using a while loop\n",
        "def reverse_string(input_string):\n",
        "    reversed_string = ''  # Initialize an empty string to store the reversed string\n",
        "    index = len(input_string) - 1  # Start at the last index of the string\n",
        "\n",
        "    # Use a while loop to iterate from the end to the beginning of the string\n",
        "    while index >= 0:\n",
        "        reversed_string += input_string[index]  # Append the current character to the reversed string\n",
        "        index -= 1  # Move to the previous index\n",
        "\n",
        "    return reversed_string\n",
        "\n",
        "\n",
        "# Input string from the user\n",
        "user_input = input(\"Enter a string to reverse: \")\n",
        "\n",
        "# Call the function and display the reversed string\n",
        "result = reverse_string(user_input)\n",
        "print(f\"Reversed string: {result}\")\n"
      ],
      "metadata": {
        "colab": {
          "base_uri": "https://localhost:8080/"
        },
        "id": "tl4aSVgUaPvM",
        "outputId": "59e3f6aa-6f42-469d-c836-47b74d4ce3b5"
      },
      "execution_count": 1,
      "outputs": [
        {
          "output_type": "stream",
          "name": "stdout",
          "text": [
            "Enter a string to reverse: TAC\n",
            "Reversed string: CAT\n"
          ]
        }
      ]
    },
    {
      "cell_type": "code",
      "source": [
        "# Write a Python program to calculate the factorial of a number provided by the user using a while loop\n",
        "# Function to calculate factorial using a while loop\n",
        "def calculate_factorial(number):\n",
        "    factorial = 1  # Initialize factorial to 1\n",
        "\n",
        "    # Use a while loop to compute factorial\n",
        "    while number > 1:\n",
        "        factorial *= number  # Multiply the current value of factorial by the current number\n",
        "        number -= 1  # Decrement the number\n",
        "\n",
        "    return factorial\n",
        "\n",
        "\n",
        "# Input number from the user\n",
        "while True:\n",
        "    try:\n",
        "        user_input = int(input(\"Enter a non-negative integer to calculate its factorial: \"))\n",
        "        if user_input < 0:\n",
        "            print(\"Please enter a non-negative integer.\")\n",
        "        else:\n",
        "            # Call the function to calculate factorial\n",
        "            result = calculate_factorial(user_input)\n",
        "            print(f\"Factorial of {user_input} is: {result}\")\n",
        "            break\n",
        "    except ValueError:\n",
        "        print(\"Invalid input! Please enter a valid integer.\")\n"
      ],
      "metadata": {
        "colab": {
          "base_uri": "https://localhost:8080/"
        },
        "id": "utxE_ylhc8CS",
        "outputId": "d933f2c1-85a0-4f81-d24d-d1c66a2f73f4"
      },
      "execution_count": 3,
      "outputs": [
        {
          "output_type": "stream",
          "name": "stdout",
          "text": [
            "Enter a non-negative integer to calculate its factorial: 1\n",
            "Factorial of 1 is: 1\n"
          ]
        }
      ]
    }
  ]
}